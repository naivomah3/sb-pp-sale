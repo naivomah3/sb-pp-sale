{
 "cells": [
  {
   "cell_type": "markdown",
   "metadata": {},
   "source": [
    "# KPI Extracting and Data Cleaning "
   ]
  },
  {
   "cell_type": "code",
   "execution_count": 1,
   "metadata": {},
   "outputs": [],
   "source": [
    "import warnings\n",
    "warnings.simplefilter(\"ignore\")\n",
    "warnings.filterwarnings('ignore')\n",
    "from IPython.core.interactiveshell import InteractiveShell\n",
    "InteractiveShell.ast_node_interactivity = \"all\""
   ]
  },
  {
   "cell_type": "code",
   "execution_count": 2,
   "metadata": {},
   "outputs": [],
   "source": [
    "import pandas as pd\n",
    "import numpy as np\n",
    "import seaborn as sns\n",
    "import re\n",
    "import math\n",
    "import matplotlib.pyplot as plt "
   ]
  },
  {
   "cell_type": "code",
   "execution_count": 3,
   "metadata": {},
   "outputs": [],
   "source": [
    "# pd.set_option(\"display.precision\", 4)\n",
    "pd.set_option('display.max_columns', None)\n",
    "pd.set_option('display.max_rows', None)\n",
    "# pd.set_option('display.float_format', lambda x: '%.4f' % x)\n",
    "sns.set_context('talk')\n",
    "sns.set_style('darkgrid', {'font.sans-serif': ['Iosevka']})"
   ]
  },
  {
   "cell_type": "markdown",
   "metadata": {},
   "source": [
    "## Data Summary"
   ]
  },
  {
   "cell_type": "code",
   "execution_count": 4,
   "metadata": {},
   "outputs": [],
   "source": [
    "file = 'datasets/COMP_SALE_SB_EXTRACT_20201019.csv'"
   ]
  },
  {
   "cell_type": "code",
   "execution_count": 5,
   "metadata": {
    "scrolled": true
   },
   "outputs": [
    {
     "output_type": "stream",
     "name": "stdout",
     "text": [
      "+ Dataset:\n"
     ]
    },
    {
     "output_type": "display_data",
     "data": {
      "text/plain": "    ID           CREATED_AT   SOLD_DATE  SOLD_DURATION  \\\n0  101  2020-05-29 08:24:07  2018-12-31            381   \n1  102  2020-05-29 08:24:13  2019-01-15            323   \n2  103  2020-05-29 08:24:19  2019-01-23             86   \n\n                                             ADDRESS   LATITUDE  LONGITUDE  \\\n0  431-433 12e Avenue N. Sherbrooke (Fleurimont) ...  45.450564 -71.860709   \n1      118 5e Avenue Sherbrooke (Fleurimont) J1G 2L5  45.403658 -71.877727   \n2    502 Rue King E. Sherbrooke (Fleurimont) J1G 1B5  45.407861 -71.877697   \n\n   SOLD_PRICE  UNIT_NUMBER  PROPERTY_FLOOR  \\\n0      125000            2               2   \n1      369000            2               0   \n2      340000            6               3   \n\n                          BUILDING_SIZE           BUILDING_SURFACE  \\\n0       29.9 X 35.2 ft / 9.07 X 10.72 m   1,047.6 sqft / 97.33 sqm   \n1  37 X 44 ft irr / 11.28 X 13.41 m irr    1,630 sqft / 151.43 sqm   \n2       30.1 X 41.1 ft / 9.16 X 12.52 m  1,234.4 sqft / 114.68 sqm   \n\n                 LOT_SURFACE                 LAND_REGISTER  BUILDING_YEAR  \\\n0    6,124.66 sqft / 569 sqm  1 329 778 Cadastre du Quebec           1952   \n1    6,476 sqft / 601.64 sqm                       1132557           1949   \n2  4,500.39 sqft / 418.1 sqm                       1330580           1972   \n\n   LOT_EVALUATION  BUILDING_EVALUATION  YEAR_EVALUATION  RESIDENTIAL_REVENUE  \\\n0           71100                98400             2014                15600   \n1           75100               206200             2018                    1   \n2          104500               225300             2018                28452   \n\n   COMMERCIAL_REVENUE  PARKING_REVENUE  OTHERS_REVENUE  MUNICIPAL_TAXE  \\\n0                   0                0               0            2386   \n1                   0                0               0            3476   \n2                   0                0               0            5164   \n\n   SCHOOL_TAXE  EXPENSES_ELECTRICITY  EXPENSES_OIL  EXPENSES_GAZ  \\\n0          267                     0             0             0   \n1          803                  4694             0             0   \n2          562                   371             0             0   \n\n   EXPENSES_ASSURANCE  EXPENSES_SNOW  EXPENSES_MAINTENANCE  \\\n0                   0              0                     0   \n1                   0              0                     0   \n2                1426            500                     0   \n\n            FONDATION_TYPE                         HEATING_ENERGY  NUMBER_1_H  \\\n0  Concrete slab on ground                     Electricity, Other           0   \n1          Poured concrete  Dual energy, Electricity, Heating oil           0   \n2          Poured concrete                            Electricity           0   \n\n   NUMBER_2_H  NUMBER_3_H  NUMBER_4_H  NUMBER_5_H  NUMBER_6_H  NUMBER_7_H  \\\n0           0           0           0           2           0           0   \n1           0           0           0           0           0           1   \n2           0           6           0           0           0           0   \n\n   NUMBER_8_H  NUMBER_9_H                AGENCY_NAME  \\\n0           0           0        RE/MAX D'ABORD INC.   \n1           0           0  CENTURY 21 ACTIONWEB INC.   \n2           0           0        Via Capitale Estrie   \n\n                                    AGENCY_ADDRESS    CT_FULL_NAME  \\\n0  157 boul. Jacques-Cartier S. Sherbrooke J1J 2Z4    Katy Rheaume   \n1       25 rue Bocage Suite 102 Sherbrooke J1L 2J4   Patrick Fares   \n2                      30 Rioux Sherbrooke J1J 2W7  Dominic Glaude   \n\n                       CT_EMAIL  DISTANCE  \n0  katyrheaume@remax-quebec.com  9.056856  \n1    patrick.fares@century21.ca  4.891268  \n2      dominic.glaude@gmail.com  5.067245  ",
      "text/html": "<div>\n<style scoped>\n    .dataframe tbody tr th:only-of-type {\n        vertical-align: middle;\n    }\n\n    .dataframe tbody tr th {\n        vertical-align: top;\n    }\n\n    .dataframe thead th {\n        text-align: right;\n    }\n</style>\n<table border=\"1\" class=\"dataframe\">\n  <thead>\n    <tr style=\"text-align: right;\">\n      <th></th>\n      <th>ID</th>\n      <th>CREATED_AT</th>\n      <th>SOLD_DATE</th>\n      <th>SOLD_DURATION</th>\n      <th>ADDRESS</th>\n      <th>LATITUDE</th>\n      <th>LONGITUDE</th>\n      <th>SOLD_PRICE</th>\n      <th>UNIT_NUMBER</th>\n      <th>PROPERTY_FLOOR</th>\n      <th>BUILDING_SIZE</th>\n      <th>BUILDING_SURFACE</th>\n      <th>LOT_SURFACE</th>\n      <th>LAND_REGISTER</th>\n      <th>BUILDING_YEAR</th>\n      <th>LOT_EVALUATION</th>\n      <th>BUILDING_EVALUATION</th>\n      <th>YEAR_EVALUATION</th>\n      <th>RESIDENTIAL_REVENUE</th>\n      <th>COMMERCIAL_REVENUE</th>\n      <th>PARKING_REVENUE</th>\n      <th>OTHERS_REVENUE</th>\n      <th>MUNICIPAL_TAXE</th>\n      <th>SCHOOL_TAXE</th>\n      <th>EXPENSES_ELECTRICITY</th>\n      <th>EXPENSES_OIL</th>\n      <th>EXPENSES_GAZ</th>\n      <th>EXPENSES_ASSURANCE</th>\n      <th>EXPENSES_SNOW</th>\n      <th>EXPENSES_MAINTENANCE</th>\n      <th>FONDATION_TYPE</th>\n      <th>HEATING_ENERGY</th>\n      <th>NUMBER_1_H</th>\n      <th>NUMBER_2_H</th>\n      <th>NUMBER_3_H</th>\n      <th>NUMBER_4_H</th>\n      <th>NUMBER_5_H</th>\n      <th>NUMBER_6_H</th>\n      <th>NUMBER_7_H</th>\n      <th>NUMBER_8_H</th>\n      <th>NUMBER_9_H</th>\n      <th>AGENCY_NAME</th>\n      <th>AGENCY_ADDRESS</th>\n      <th>CT_FULL_NAME</th>\n      <th>CT_EMAIL</th>\n      <th>DISTANCE</th>\n    </tr>\n  </thead>\n  <tbody>\n    <tr>\n      <th>0</th>\n      <td>101</td>\n      <td>2020-05-29 08:24:07</td>\n      <td>2018-12-31</td>\n      <td>381</td>\n      <td>431-433 12e Avenue N. Sherbrooke (Fleurimont) ...</td>\n      <td>45.450564</td>\n      <td>-71.860709</td>\n      <td>125000</td>\n      <td>2</td>\n      <td>2</td>\n      <td>29.9 X 35.2 ft / 9.07 X 10.72 m</td>\n      <td>1,047.6 sqft / 97.33 sqm</td>\n      <td>6,124.66 sqft / 569 sqm</td>\n      <td>1 329 778 Cadastre du Quebec</td>\n      <td>1952</td>\n      <td>71100</td>\n      <td>98400</td>\n      <td>2014</td>\n      <td>15600</td>\n      <td>0</td>\n      <td>0</td>\n      <td>0</td>\n      <td>2386</td>\n      <td>267</td>\n      <td>0</td>\n      <td>0</td>\n      <td>0</td>\n      <td>0</td>\n      <td>0</td>\n      <td>0</td>\n      <td>Concrete slab on ground</td>\n      <td>Electricity, Other</td>\n      <td>0</td>\n      <td>0</td>\n      <td>0</td>\n      <td>0</td>\n      <td>2</td>\n      <td>0</td>\n      <td>0</td>\n      <td>0</td>\n      <td>0</td>\n      <td>RE/MAX D'ABORD INC.</td>\n      <td>157 boul. Jacques-Cartier S. Sherbrooke J1J 2Z4</td>\n      <td>Katy Rheaume</td>\n      <td>katyrheaume@remax-quebec.com</td>\n      <td>9.056856</td>\n    </tr>\n    <tr>\n      <th>1</th>\n      <td>102</td>\n      <td>2020-05-29 08:24:13</td>\n      <td>2019-01-15</td>\n      <td>323</td>\n      <td>118 5e Avenue Sherbrooke (Fleurimont) J1G 2L5</td>\n      <td>45.403658</td>\n      <td>-71.877727</td>\n      <td>369000</td>\n      <td>2</td>\n      <td>0</td>\n      <td>37 X 44 ft irr / 11.28 X 13.41 m irr</td>\n      <td>1,630 sqft / 151.43 sqm</td>\n      <td>6,476 sqft / 601.64 sqm</td>\n      <td>1132557</td>\n      <td>1949</td>\n      <td>75100</td>\n      <td>206200</td>\n      <td>2018</td>\n      <td>1</td>\n      <td>0</td>\n      <td>0</td>\n      <td>0</td>\n      <td>3476</td>\n      <td>803</td>\n      <td>4694</td>\n      <td>0</td>\n      <td>0</td>\n      <td>0</td>\n      <td>0</td>\n      <td>0</td>\n      <td>Poured concrete</td>\n      <td>Dual energy, Electricity, Heating oil</td>\n      <td>0</td>\n      <td>0</td>\n      <td>0</td>\n      <td>0</td>\n      <td>0</td>\n      <td>0</td>\n      <td>1</td>\n      <td>0</td>\n      <td>0</td>\n      <td>CENTURY 21 ACTIONWEB INC.</td>\n      <td>25 rue Bocage Suite 102 Sherbrooke J1L 2J4</td>\n      <td>Patrick Fares</td>\n      <td>patrick.fares@century21.ca</td>\n      <td>4.891268</td>\n    </tr>\n    <tr>\n      <th>2</th>\n      <td>103</td>\n      <td>2020-05-29 08:24:19</td>\n      <td>2019-01-23</td>\n      <td>86</td>\n      <td>502 Rue King E. Sherbrooke (Fleurimont) J1G 1B5</td>\n      <td>45.407861</td>\n      <td>-71.877697</td>\n      <td>340000</td>\n      <td>6</td>\n      <td>3</td>\n      <td>30.1 X 41.1 ft / 9.16 X 12.52 m</td>\n      <td>1,234.4 sqft / 114.68 sqm</td>\n      <td>4,500.39 sqft / 418.1 sqm</td>\n      <td>1330580</td>\n      <td>1972</td>\n      <td>104500</td>\n      <td>225300</td>\n      <td>2018</td>\n      <td>28452</td>\n      <td>0</td>\n      <td>0</td>\n      <td>0</td>\n      <td>5164</td>\n      <td>562</td>\n      <td>371</td>\n      <td>0</td>\n      <td>0</td>\n      <td>1426</td>\n      <td>500</td>\n      <td>0</td>\n      <td>Poured concrete</td>\n      <td>Electricity</td>\n      <td>0</td>\n      <td>0</td>\n      <td>6</td>\n      <td>0</td>\n      <td>0</td>\n      <td>0</td>\n      <td>0</td>\n      <td>0</td>\n      <td>0</td>\n      <td>Via Capitale Estrie</td>\n      <td>30 Rioux Sherbrooke J1J 2W7</td>\n      <td>Dominic Glaude</td>\n      <td>dominic.glaude@gmail.com</td>\n      <td>5.067245</td>\n    </tr>\n  </tbody>\n</table>\n</div>"
     },
     "metadata": {}
    },
    {
     "output_type": "stream",
     "name": "stdout",
     "text": [
      "+ Shape:\n"
     ]
    },
    {
     "output_type": "display_data",
     "data": {
      "text/plain": "(1500, 46)"
     },
     "metadata": {}
    },
    {
     "output_type": "stream",
     "name": "stdout",
     "text": [
      "+ Target: \n+ Overall Variables Info: \n<class 'pandas.core.frame.DataFrame'>\nRangeIndex: 1500 entries, 0 to 1499\nData columns (total 46 columns):\n #   Column                Non-Null Count  Dtype  \n---  ------                --------------  -----  \n 0   ID                    1500 non-null   int64  \n 1   CREATED_AT            1500 non-null   object \n 2   SOLD_DATE             1500 non-null   object \n 3   SOLD_DURATION         1500 non-null   int64  \n 4   ADDRESS               1500 non-null   object \n 5   LATITUDE              1500 non-null   float64\n 6   LONGITUDE             1500 non-null   float64\n 7   SOLD_PRICE            1500 non-null   int64  \n 8   UNIT_NUMBER           1500 non-null   int64  \n 9   PROPERTY_FLOOR        1500 non-null   int64  \n 10  BUILDING_SIZE         1400 non-null   object \n 11  BUILDING_SURFACE      1103 non-null   object \n 12  LOT_SURFACE           1462 non-null   object \n 13  LAND_REGISTER         1500 non-null   object \n 14  BUILDING_YEAR         1500 non-null   int64  \n 15  LOT_EVALUATION        1500 non-null   int64  \n 16  BUILDING_EVALUATION   1500 non-null   int64  \n 17  YEAR_EVALUATION       1500 non-null   int64  \n 18  RESIDENTIAL_REVENUE   1500 non-null   int64  \n 19  COMMERCIAL_REVENUE    1500 non-null   int64  \n 20  PARKING_REVENUE       1500 non-null   int64  \n 21  OTHERS_REVENUE        1500 non-null   int64  \n 22  MUNICIPAL_TAXE        1500 non-null   int64  \n 23  SCHOOL_TAXE           1500 non-null   int64  \n 24  EXPENSES_ELECTRICITY  1500 non-null   int64  \n 25  EXPENSES_OIL          1500 non-null   int64  \n 26  EXPENSES_GAZ          1500 non-null   int64  \n 27  EXPENSES_ASSURANCE    1500 non-null   int64  \n 28  EXPENSES_SNOW         1500 non-null   int64  \n 29  EXPENSES_MAINTENANCE  1500 non-null   int64  \n 30  FONDATION_TYPE        1291 non-null   object \n 31  HEATING_ENERGY        1328 non-null   object \n 32  NUMBER_1_H            1500 non-null   int64  \n 33  NUMBER_2_H            1500 non-null   int64  \n 34  NUMBER_3_H            1500 non-null   int64  \n 35  NUMBER_4_H            1500 non-null   int64  \n 36  NUMBER_5_H            1500 non-null   int64  \n 37  NUMBER_6_H            1500 non-null   int64  \n 38  NUMBER_7_H            1500 non-null   int64  \n 39  NUMBER_8_H            1500 non-null   int64  \n 40  NUMBER_9_H            1500 non-null   int64  \n 41  AGENCY_NAME           1500 non-null   object \n 42  AGENCY_ADDRESS        1500 non-null   object \n 43  CT_FULL_NAME          1500 non-null   object \n 44  CT_EMAIL              1500 non-null   object \n 45  DISTANCE              1500 non-null   float64\ndtypes: float64(3), int64(30), object(13)\nmemory usage: 1.8 MB\n"
     ]
    },
    {
     "output_type": "display_data",
     "data": {
      "text/plain": "Empty DataFrame\nColumns: []\nIndex: []",
      "text/html": "<div>\n<style scoped>\n    .dataframe tbody tr th:only-of-type {\n        vertical-align: middle;\n    }\n\n    .dataframe tbody tr th {\n        vertical-align: top;\n    }\n\n    .dataframe thead th {\n        text-align: right;\n    }\n</style>\n<table border=\"1\" class=\"dataframe\">\n  <thead>\n    <tr style=\"text-align: right;\">\n      <th></th>\n    </tr>\n  </thead>\n  <tbody>\n  </tbody>\n</table>\n</div>"
     },
     "metadata": {}
    }
   ],
   "source": [
    "def load_dataset(filename, na_val=None, parse_date=False, verbose=False):\n",
    "    if parse_date:\n",
    "        to_parse = [1,2]\n",
    "        df = pd.read_csv(filename, parse_dates=to_parse, na_values=na_val)\n",
    "    else:\n",
    "        df = pd.read_csv(filename, na_values=na_val)\n",
    "    # Features and Target column name \n",
    "    features = df.columns\n",
    "    target = ''\n",
    "\n",
    "    print(\"+ Dataset:\")\n",
    "    display(df.head(3))\n",
    "    \n",
    "    if verbose:\n",
    "        print(\"+ Shape:\")\n",
    "        display(df.shape) \n",
    "        print(f\"+ Target: {target}\")\n",
    "        print(f\"+ Overall Variables Info: \")\n",
    "        display(pd.DataFrame(df.info(memory_usage='deep')))\n",
    "    \n",
    "    return features, target, df\n",
    "\n",
    "features, target, dataset = load_dataset(file, na_val=None, parse_date=False, verbose=True)"
   ]
  },
  {
   "cell_type": "code",
   "execution_count": 6,
   "metadata": {
    "scrolled": true
   },
   "outputs": [
    {
     "output_type": "stream",
     "name": "stdout",
     "text": [
      "+ Missing data: \n"
     ]
    },
    {
     "output_type": "execute_result",
     "data": {
      "text/plain": [
       "                 feature  count  percent\n",
       "0       BUILDING_SURFACE    397  26.4667\n",
       "1         FONDATION_TYPE    209  13.9333\n",
       "2         HEATING_ENERGY    172  11.4667\n",
       "3          BUILDING_SIZE    100   6.6667\n",
       "4            LOT_SURFACE     38   2.5333\n",
       "5             NUMBER_5_H      0   0.0000\n",
       "6     EXPENSES_ASSURANCE      0   0.0000\n",
       "7          EXPENSES_SNOW      0   0.0000\n",
       "8   EXPENSES_MAINTENANCE      0   0.0000\n",
       "9             NUMBER_1_H      0   0.0000\n",
       "10            NUMBER_2_H      0   0.0000\n",
       "11            NUMBER_3_H      0   0.0000\n",
       "12            NUMBER_4_H      0   0.0000\n",
       "13                    ID      0   0.0000\n",
       "14          EXPENSES_OIL      0   0.0000\n",
       "15            NUMBER_6_H      0   0.0000\n",
       "16            NUMBER_7_H      0   0.0000\n",
       "17            NUMBER_8_H      0   0.0000\n",
       "18            NUMBER_9_H      0   0.0000\n",
       "19           AGENCY_NAME      0   0.0000\n",
       "20        AGENCY_ADDRESS      0   0.0000\n",
       "21          CT_FULL_NAME      0   0.0000\n",
       "22              CT_EMAIL      0   0.0000\n",
       "23          EXPENSES_GAZ      0   0.0000\n",
       "24           SCHOOL_TAXE      0   0.0000\n",
       "25  EXPENSES_ELECTRICITY      0   0.0000\n",
       "26         LAND_REGISTER      0   0.0000\n",
       "27             SOLD_DATE      0   0.0000\n",
       "28         SOLD_DURATION      0   0.0000\n",
       "29               ADDRESS      0   0.0000\n",
       "30              LATITUDE      0   0.0000\n",
       "31             LONGITUDE      0   0.0000\n",
       "32            SOLD_PRICE      0   0.0000\n",
       "33           UNIT_NUMBER      0   0.0000\n",
       "34        PROPERTY_FLOOR      0   0.0000\n",
       "35         BUILDING_YEAR      0   0.0000\n",
       "36            CREATED_AT      0   0.0000\n",
       "37        LOT_EVALUATION      0   0.0000\n",
       "38   BUILDING_EVALUATION      0   0.0000\n",
       "39       YEAR_EVALUATION      0   0.0000\n",
       "40   RESIDENTIAL_REVENUE      0   0.0000\n",
       "41    COMMERCIAL_REVENUE      0   0.0000\n",
       "42       PARKING_REVENUE      0   0.0000\n",
       "43        OTHERS_REVENUE      0   0.0000\n",
       "44        MUNICIPAL_TAXE      0   0.0000\n",
       "45              DISTANCE      0   0.0000"
      ],
      "text/html": "<div>\n<style scoped>\n    .dataframe tbody tr th:only-of-type {\n        vertical-align: middle;\n    }\n\n    .dataframe tbody tr th {\n        vertical-align: top;\n    }\n\n    .dataframe thead th {\n        text-align: right;\n    }\n</style>\n<table border=\"1\" class=\"dataframe\">\n  <thead>\n    <tr style=\"text-align: right;\">\n      <th></th>\n      <th>feature</th>\n      <th>count</th>\n      <th>percent</th>\n    </tr>\n  </thead>\n  <tbody>\n    <tr>\n      <th>0</th>\n      <td>BUILDING_SURFACE</td>\n      <td>397</td>\n      <td>26.4667</td>\n    </tr>\n    <tr>\n      <th>1</th>\n      <td>FONDATION_TYPE</td>\n      <td>209</td>\n      <td>13.9333</td>\n    </tr>\n    <tr>\n      <th>2</th>\n      <td>HEATING_ENERGY</td>\n      <td>172</td>\n      <td>11.4667</td>\n    </tr>\n    <tr>\n      <th>3</th>\n      <td>BUILDING_SIZE</td>\n      <td>100</td>\n      <td>6.6667</td>\n    </tr>\n    <tr>\n      <th>4</th>\n      <td>LOT_SURFACE</td>\n      <td>38</td>\n      <td>2.5333</td>\n    </tr>\n    <tr>\n      <th>5</th>\n      <td>NUMBER_5_H</td>\n      <td>0</td>\n      <td>0.0000</td>\n    </tr>\n    <tr>\n      <th>6</th>\n      <td>EXPENSES_ASSURANCE</td>\n      <td>0</td>\n      <td>0.0000</td>\n    </tr>\n    <tr>\n      <th>7</th>\n      <td>EXPENSES_SNOW</td>\n      <td>0</td>\n      <td>0.0000</td>\n    </tr>\n    <tr>\n      <th>8</th>\n      <td>EXPENSES_MAINTENANCE</td>\n      <td>0</td>\n      <td>0.0000</td>\n    </tr>\n    <tr>\n      <th>9</th>\n      <td>NUMBER_1_H</td>\n      <td>0</td>\n      <td>0.0000</td>\n    </tr>\n    <tr>\n      <th>10</th>\n      <td>NUMBER_2_H</td>\n      <td>0</td>\n      <td>0.0000</td>\n    </tr>\n    <tr>\n      <th>11</th>\n      <td>NUMBER_3_H</td>\n      <td>0</td>\n      <td>0.0000</td>\n    </tr>\n    <tr>\n      <th>12</th>\n      <td>NUMBER_4_H</td>\n      <td>0</td>\n      <td>0.0000</td>\n    </tr>\n    <tr>\n      <th>13</th>\n      <td>ID</td>\n      <td>0</td>\n      <td>0.0000</td>\n    </tr>\n    <tr>\n      <th>14</th>\n      <td>EXPENSES_OIL</td>\n      <td>0</td>\n      <td>0.0000</td>\n    </tr>\n    <tr>\n      <th>15</th>\n      <td>NUMBER_6_H</td>\n      <td>0</td>\n      <td>0.0000</td>\n    </tr>\n    <tr>\n      <th>16</th>\n      <td>NUMBER_7_H</td>\n      <td>0</td>\n      <td>0.0000</td>\n    </tr>\n    <tr>\n      <th>17</th>\n      <td>NUMBER_8_H</td>\n      <td>0</td>\n      <td>0.0000</td>\n    </tr>\n    <tr>\n      <th>18</th>\n      <td>NUMBER_9_H</td>\n      <td>0</td>\n      <td>0.0000</td>\n    </tr>\n    <tr>\n      <th>19</th>\n      <td>AGENCY_NAME</td>\n      <td>0</td>\n      <td>0.0000</td>\n    </tr>\n    <tr>\n      <th>20</th>\n      <td>AGENCY_ADDRESS</td>\n      <td>0</td>\n      <td>0.0000</td>\n    </tr>\n    <tr>\n      <th>21</th>\n      <td>CT_FULL_NAME</td>\n      <td>0</td>\n      <td>0.0000</td>\n    </tr>\n    <tr>\n      <th>22</th>\n      <td>CT_EMAIL</td>\n      <td>0</td>\n      <td>0.0000</td>\n    </tr>\n    <tr>\n      <th>23</th>\n      <td>EXPENSES_GAZ</td>\n      <td>0</td>\n      <td>0.0000</td>\n    </tr>\n    <tr>\n      <th>24</th>\n      <td>SCHOOL_TAXE</td>\n      <td>0</td>\n      <td>0.0000</td>\n    </tr>\n    <tr>\n      <th>25</th>\n      <td>EXPENSES_ELECTRICITY</td>\n      <td>0</td>\n      <td>0.0000</td>\n    </tr>\n    <tr>\n      <th>26</th>\n      <td>LAND_REGISTER</td>\n      <td>0</td>\n      <td>0.0000</td>\n    </tr>\n    <tr>\n      <th>27</th>\n      <td>SOLD_DATE</td>\n      <td>0</td>\n      <td>0.0000</td>\n    </tr>\n    <tr>\n      <th>28</th>\n      <td>SOLD_DURATION</td>\n      <td>0</td>\n      <td>0.0000</td>\n    </tr>\n    <tr>\n      <th>29</th>\n      <td>ADDRESS</td>\n      <td>0</td>\n      <td>0.0000</td>\n    </tr>\n    <tr>\n      <th>30</th>\n      <td>LATITUDE</td>\n      <td>0</td>\n      <td>0.0000</td>\n    </tr>\n    <tr>\n      <th>31</th>\n      <td>LONGITUDE</td>\n      <td>0</td>\n      <td>0.0000</td>\n    </tr>\n    <tr>\n      <th>32</th>\n      <td>SOLD_PRICE</td>\n      <td>0</td>\n      <td>0.0000</td>\n    </tr>\n    <tr>\n      <th>33</th>\n      <td>UNIT_NUMBER</td>\n      <td>0</td>\n      <td>0.0000</td>\n    </tr>\n    <tr>\n      <th>34</th>\n      <td>PROPERTY_FLOOR</td>\n      <td>0</td>\n      <td>0.0000</td>\n    </tr>\n    <tr>\n      <th>35</th>\n      <td>BUILDING_YEAR</td>\n      <td>0</td>\n      <td>0.0000</td>\n    </tr>\n    <tr>\n      <th>36</th>\n      <td>CREATED_AT</td>\n      <td>0</td>\n      <td>0.0000</td>\n    </tr>\n    <tr>\n      <th>37</th>\n      <td>LOT_EVALUATION</td>\n      <td>0</td>\n      <td>0.0000</td>\n    </tr>\n    <tr>\n      <th>38</th>\n      <td>BUILDING_EVALUATION</td>\n      <td>0</td>\n      <td>0.0000</td>\n    </tr>\n    <tr>\n      <th>39</th>\n      <td>YEAR_EVALUATION</td>\n      <td>0</td>\n      <td>0.0000</td>\n    </tr>\n    <tr>\n      <th>40</th>\n      <td>RESIDENTIAL_REVENUE</td>\n      <td>0</td>\n      <td>0.0000</td>\n    </tr>\n    <tr>\n      <th>41</th>\n      <td>COMMERCIAL_REVENUE</td>\n      <td>0</td>\n      <td>0.0000</td>\n    </tr>\n    <tr>\n      <th>42</th>\n      <td>PARKING_REVENUE</td>\n      <td>0</td>\n      <td>0.0000</td>\n    </tr>\n    <tr>\n      <th>43</th>\n      <td>OTHERS_REVENUE</td>\n      <td>0</td>\n      <td>0.0000</td>\n    </tr>\n    <tr>\n      <th>44</th>\n      <td>MUNICIPAL_TAXE</td>\n      <td>0</td>\n      <td>0.0000</td>\n    </tr>\n    <tr>\n      <th>45</th>\n      <td>DISTANCE</td>\n      <td>0</td>\n      <td>0.0000</td>\n    </tr>\n  </tbody>\n</table>\n</div>"
     },
     "metadata": {},
     "execution_count": 6
    }
   ],
   "source": [
    "def display_missing(dataset, verbose=False):\n",
    "    features = dataset.columns\n",
    "    if verbose:\n",
    "        print(\"+ Missing data: \")\n",
    "    missing_count = dataset[features].isnull().sum()\n",
    "    missing_percent = (dataset[features].isnull().sum() / len(dataset) * 100).round(4)\n",
    "    missing = pd.DataFrame({'feature': features, 'count': missing_count, 'percent': missing_percent,})\n",
    "    missing.sort_values('count', ascending=False, inplace=True)\n",
    "    missing.reset_index(drop=True, inplace=True)\n",
    "    return missing\n",
    "\n",
    "display_missing(dataset, True)"
   ]
  },
  {
   "cell_type": "markdown",
   "metadata": {},
   "source": [
    "## 1. KPI Extracting "
   ]
  },
  {
   "cell_type": "code",
   "execution_count": 7,
   "metadata": {
    "scrolled": true
   },
   "outputs": [],
   "source": [
    "# KPI Extractor functions\n",
    "def get_rba(row):\n",
    "    if np.isnan(row[\"UNIT_NUMBER\"]):\n",
    "        return np.nan\n",
    "    return row[\"RESIDENTIAL_REVENUE\"] + row[\"COMMERCIAL_REVENUE\"] + row[\"PARKING_REVENUE\"] + row[\"OTHERS_REVENUE\"]\n",
    "\n",
    "def get_round_up(row):\n",
    "    if np.isnan(row[\"RBA\"]):\n",
    "        return np.nan\n",
    "    decimals = -3\n",
    "    multiplier = 10 ** decimals\n",
    "    return math.ceil(row[\"RBA\"] * multiplier) / multiplier\n",
    "\n",
    "def get_revenue_gross_round(row):\n",
    "    if np.isnan(row[\"RBA\"]):\n",
    "        return np.nan\n",
    "    return round(row[\"RBA\"], -3)\n",
    "\n",
    "def get_norm_expense_vac(row):\n",
    "    if np.isnan(row[\"RBA\"]):\n",
    "        return np.nan\n",
    "    return round(row[\"RBA\"] * 0.03, 2)\n",
    "\n",
    "def get_norm_expense_ins(row):\n",
    "    if np.isnan(row[\"UNIT_NUMBER\"]):\n",
    "        return np.nan\n",
    "    if np.isnan(row[\"EXPENSES_ASSURANCE\"]) or row[\"EXPENSES_ASSURANCE\"] < 100:\n",
    "        if row[\"UNIT_NUMBER\"] > 5:\n",
    "            return row[\"UNIT_NUMBER\"] * 500\n",
    "        else:\n",
    "            return row[\"UNIT_NUMBER\"] * 650\n",
    "    else:\n",
    "        return row[\"EXPENSES_ASSURANCE\"]\n",
    "\n",
    "def get_norm_expense_maint(row):\n",
    "    if np.isnan(row[\"UNIT_NUMBER\"]):\n",
    "        return np.nan\n",
    "    if row[\"UNIT_NUMBER\"] >= 5:\n",
    "        return row[\"UNIT_NUMBER\"] * 500\n",
    "    else:\n",
    "        return np.nan\n",
    "\n",
    "def get_norm_expense_conc(row):\n",
    "    if np.isnan(row[\"UNIT_NUMBER\"]):\n",
    "        return np.nan\n",
    "    if 4 <= row[\"UNIT_NUMBER\"] <= 6:\n",
    "        row = row[\"UNIT_NUMBER\"] * 125\n",
    "    elif 7 <= row[\"UNIT_NUMBER\"] <= 11:\n",
    "        row = row[\"UNIT_NUMBER\"] * 170\n",
    "    else:\n",
    "        row = row[\"UNIT_NUMBER\"] * 300\n",
    "    return row\n",
    "\n",
    "def get_norm_expense_mngt(row):\n",
    "    if np.isnan(row[\"RBA\"]) or np.isnan(row[\"UNIT_NUMBER\"]):\n",
    "        return np.nan\n",
    "    if 5 <= row[\"UNIT_NUMBER\"] <= 6:\n",
    "        row = row[\"RBA\"] * .03\n",
    "    elif 7 <= row[\"UNIT_NUMBER\"] <= 11:\n",
    "        row = row[\"RBA\"] * .04\n",
    "    else:\n",
    "        row = row[\"RBA\"] * .05\n",
    "    return row\n",
    "\n",
    "def get_norm_expense_elec(row):\n",
    "    if np.isnan(row[\"EXPENSES_ELECTRICITY\"]):\n",
    "        return np.nan\n",
    "    else:\n",
    "        return row[\"EXPENSES_ELECTRICITY\"]\n",
    "\n",
    "def get_norm_expense_heat(row):\n",
    "    if np.isnan(row[\"EXPENSES_OIL\"]) or np.isnan(row[\"EXPENSES_GAZ\"]):\n",
    "        if not np.isnan(row[\"EXPENSES_OIL\"]):\n",
    "            return row[\"EXPENSES_OIL\"]\n",
    "        if not np.isnan(row[\"EXPENSES_GAZ\"]):\n",
    "            return row[\"EXPENSES_GAZ\"]\n",
    "        else:\n",
    "            return np.nan\n",
    "    return row[\"EXPENSES_OIL\"] + row[\"EXPENSES_GAZ\"]\n",
    "\n",
    "def get_total_norm_expenses(row):\n",
    "    if np.isnan(row[\"UNIT_NUMBER\"]) or np.isnan(row[\"RBA\"]):\n",
    "        return np.nan\n",
    "    total_exp = 0\n",
    "    if row[\"UNIT_NUMBER\"] >= 5:\n",
    "        total_exp = \\\n",
    "            row[\"MUNICIPAL_TAXE\"] + row[\"SCHOOL_TAXE\"] + \\\n",
    "            row[\"NORM_EXP_MAINTENANCE\"] + row[\"NORM_EXP_CONCIERGE\"] + \\\n",
    "            row[\"NORM_EXP_MANAGEMENT\"] + row[\"NORM_EXP_INSURANCE\"] + \\\n",
    "            row[\"NORM_EXP_ELECTRICITY\"] + row[\"NORM_EXP_HEAT\"] + \\\n",
    "            row[\"NORM_EXP_VACANCY\"]\n",
    "\n",
    "    if 2 <= row[\"UNIT_NUMBER\"] <= 4 and row[\"RBA\"] > 5000:\n",
    "        total_exp = \\\n",
    "            row[\"MUNICIPAL_TAXE\"] + row[\"SCHOOL_TAXE\"] + \\\n",
    "            row[\"EXPENSES_ASSURANCE\"] + row[\"NORM_EXP_INSURANCE\"] + \\\n",
    "            row[\"NORM_EXP_ELECTRICITY\"] + row[\"NORM_EXP_HEAT\"] + \\\n",
    "            row[\"NORM_EXP_VACANCY\"] + row[\"EXPENSES_SNOW\"]\n",
    "    return total_exp\n",
    "\n",
    "def get_total_norm_expenses_rounded(row):\n",
    "    if np.isnan(row[\"NORM_TOTAL_EXPENSES\"]):\n",
    "        return np.nan\n",
    "    return abs(round(row[\"NORM_TOTAL_EXPENSES\"], -2))\n",
    "\n",
    "def get_net_norm_income(row):\n",
    "    if np.isnan(row[\"RBA\"]) or np.isnan(row[\"NORM_TOTAL_EXPENSES\"]):\n",
    "        return np.nan\n",
    "    return round(row[\"RBA\"] - row[\"NORM_TOTAL_EXPENSES\"], 2)\n",
    "\n",
    "def get_cap_rate(row):\n",
    "    if np.isnan(row[\"NET_NORM_INCOME\"]) or np.isnan(row[\"SOLD_PRICE\"]):\n",
    "        return np.nan\n",
    "    return round((row[\"NET_NORM_INCOME\"] / row[\"SOLD_PRICE\"] * 100), 2)\n",
    "\n",
    "def get_gross_revenue_mult(row):\n",
    "    if np.isnan(row[\"SOLD_PRICE\"]) or np.isnan(row[\"RBA\"]) or row[\"RBA\"] == 0:\n",
    "        return np.nan\n",
    "    return round(row[\"SOLD_PRICE\"] / row[\"RBA\"], 2)\n",
    "\n",
    "def get_unit_price(row):\n",
    "    if np.isnan(row[\"SOLD_PRICE\"]) or np.isnan(row[\"UNIT_NUMBER\"]):\n",
    "        return np.nan\n",
    "    if row[\"UNIT_NUMBER\"] == 0:\n",
    "        return row[\"UNIT_NUMBER\"]\n",
    "    return round(row[\"SOLD_PRICE\"] / row[\"UNIT_NUMBER\"], 2)\n",
    "\n",
    "def get_net_revenue_mult(row):\n",
    "    if np.isnan(row[\"SOLD_PRICE\"]) or np.isnan(row[\"NET_NORM_INCOME\"]):\n",
    "        return np.nan\n",
    "    if row[\"NET_NORM_INCOME\"] == 0:\n",
    "        return row[\"SOLD_PRICE\"]\n",
    "    return round(row[\"SOLD_PRICE\"] / row[\"NET_NORM_INCOME\"], 2)"
   ]
  },
  {
   "cell_type": "code",
   "execution_count": 8,
   "metadata": {
    "scrolled": true
   },
   "outputs": [],
   "source": [
    "df = dataset.copy()\n",
    "df[\"RBA\"] = df.apply(get_rba, axis=1)\n",
    "df[\"REVENUE_GROSS_ROUND\"] = df.apply(get_revenue_gross_round, axis=1)\n",
    "df[\"NORM_EXP_HEAT\"] = df.apply(get_norm_expense_heat, axis=1)\n",
    "df[\"NORM_EXP_VACANCY\"] = df.apply(get_norm_expense_vac, axis=1)\n",
    "df[\"NORM_EXP_INSURANCE\"] = df.apply(get_norm_expense_ins, axis=1)\n",
    "df[\"NORM_EXP_MAINTENANCE\"] = df.apply(get_norm_expense_maint, axis=1)\n",
    "df[\"NORM_EXP_CONCIERGE\"] = df.apply(get_norm_expense_conc, axis=1)\n",
    "df[\"NORM_EXP_MANAGEMENT\"] = df.apply(get_norm_expense_mngt, axis=1)\n",
    "df[\"NORM_EXP_ELECTRICITY\"] = df.apply(get_norm_expense_elec, axis=1)\n",
    "df[\"NORM_TOTAL_EXPENSES\"] = df.apply(get_total_norm_expenses, axis=1)\n",
    "df[\"TOTAL_NORM_EXP_ROUNDED\"] = df.apply(get_total_norm_expenses_rounded, axis=1)\n",
    "df[\"NET_NORM_INCOME\"] = df.apply(get_net_norm_income, axis=1)\n",
    "df[\"CAP_RATE\"] = df.apply(get_cap_rate, axis=1)\n",
    "df[\"GROSS_REVENUE_MULTIPLICATOR\"] = df.apply(get_gross_revenue_mult, axis=1)\n",
    "df[\"UNIT_PRICE\"] = df.apply(get_unit_price, axis=1)\n",
    "df[\"NET_REVENUE_MULTIPLICATOR\"] = df.apply(get_net_revenue_mult, axis=1)\n",
    "\n",
    "df.to_csv(r'datasets/COMP_SALE_SB_EXTRACT_KPI_20201020.csv', index=False)"
   ]
  },
  {
   "cell_type": "code",
   "execution_count": 9,
   "metadata": {},
   "outputs": [
    {
     "output_type": "stream",
     "name": "stdout",
     "text": [
      "+ Dataset:\n"
     ]
    },
    {
     "output_type": "display_data",
     "data": {
      "text/plain": "    ID           CREATED_AT   SOLD_DATE  SOLD_DURATION  \\\n0  101  2020-05-29 08:24:07  2018-12-31            381   \n1  102  2020-05-29 08:24:13  2019-01-15            323   \n2  103  2020-05-29 08:24:19  2019-01-23             86   \n\n                                             ADDRESS   LATITUDE  LONGITUDE  \\\n0  431-433 12e Avenue N. Sherbrooke (Fleurimont) ...  45.450564 -71.860709   \n1      118 5e Avenue Sherbrooke (Fleurimont) J1G 2L5  45.403658 -71.877727   \n2    502 Rue King E. Sherbrooke (Fleurimont) J1G 1B5  45.407861 -71.877697   \n\n   SOLD_PRICE  UNIT_NUMBER  PROPERTY_FLOOR  \\\n0      125000            2               2   \n1      369000            2               0   \n2      340000            6               3   \n\n                          BUILDING_SIZE           BUILDING_SURFACE  \\\n0       29.9 X 35.2 ft / 9.07 X 10.72 m   1,047.6 sqft / 97.33 sqm   \n1  37 X 44 ft irr / 11.28 X 13.41 m irr    1,630 sqft / 151.43 sqm   \n2       30.1 X 41.1 ft / 9.16 X 12.52 m  1,234.4 sqft / 114.68 sqm   \n\n                 LOT_SURFACE                 LAND_REGISTER  BUILDING_YEAR  \\\n0    6,124.66 sqft / 569 sqm  1 329 778 Cadastre du Quebec           1952   \n1    6,476 sqft / 601.64 sqm                       1132557           1949   \n2  4,500.39 sqft / 418.1 sqm                       1330580           1972   \n\n   LOT_EVALUATION  BUILDING_EVALUATION  YEAR_EVALUATION  RESIDENTIAL_REVENUE  \\\n0           71100                98400             2014                15600   \n1           75100               206200             2018                    1   \n2          104500               225300             2018                28452   \n\n   COMMERCIAL_REVENUE  PARKING_REVENUE  OTHERS_REVENUE  MUNICIPAL_TAXE  \\\n0                   0                0               0            2386   \n1                   0                0               0            3476   \n2                   0                0               0            5164   \n\n   SCHOOL_TAXE  EXPENSES_ELECTRICITY  EXPENSES_OIL  EXPENSES_GAZ  \\\n0          267                     0             0             0   \n1          803                  4694             0             0   \n2          562                   371             0             0   \n\n   EXPENSES_ASSURANCE  EXPENSES_SNOW  EXPENSES_MAINTENANCE  \\\n0                   0              0                     0   \n1                   0              0                     0   \n2                1426            500                     0   \n\n            FONDATION_TYPE                         HEATING_ENERGY  NUMBER_1_H  \\\n0  Concrete slab on ground                     Electricity, Other           0   \n1          Poured concrete  Dual energy, Electricity, Heating oil           0   \n2          Poured concrete                            Electricity           0   \n\n   NUMBER_2_H  NUMBER_3_H  NUMBER_4_H  NUMBER_5_H  NUMBER_6_H  NUMBER_7_H  \\\n0           0           0           0           2           0           0   \n1           0           0           0           0           0           1   \n2           0           6           0           0           0           0   \n\n   NUMBER_8_H  NUMBER_9_H                AGENCY_NAME  \\\n0           0           0        RE/MAX D'ABORD INC.   \n1           0           0  CENTURY 21 ACTIONWEB INC.   \n2           0           0        Via Capitale Estrie   \n\n                                    AGENCY_ADDRESS    CT_FULL_NAME  \\\n0  157 boul. Jacques-Cartier S. Sherbrooke J1J 2Z4    Katy Rheaume   \n1       25 rue Bocage Suite 102 Sherbrooke J1L 2J4   Patrick Fares   \n2                      30 Rioux Sherbrooke J1J 2W7  Dominic Glaude   \n\n                       CT_EMAIL  DISTANCE    RBA  REVENUE_GROSS_ROUND  \\\n0  katyrheaume@remax-quebec.com  9.056856  15600                16000   \n1    patrick.fares@century21.ca  4.891268      1                    0   \n2      dominic.glaude@gmail.com  5.067245  28452                28000   \n\n   NORM_EXP_HEAT  NORM_EXP_VACANCY  NORM_EXP_INSURANCE  NORM_EXP_MAINTENANCE  \\\n0              0            468.00                1300                   NaN   \n1              0              0.03                1300                   NaN   \n2              0            853.56                1426                3000.0   \n\n   NORM_EXP_CONCIERGE  NORM_EXP_MANAGEMENT  NORM_EXP_ELECTRICITY  \\\n0                 600               780.00                     0   \n1                 600                 0.05                  4694   \n2                 750               853.56                   371   \n\n   NORM_TOTAL_EXPENSES  TOTAL_NORM_EXP_ROUNDED  NET_NORM_INCOME  CAP_RATE  \\\n0              4421.00                  4400.0         11179.00      8.94   \n1                 0.00                     0.0             1.00      0.00   \n2             12980.12                 13000.0         15471.88      4.55   \n\n   GROSS_REVENUE_MULTIPLICATOR  UNIT_PRICE  NET_REVENUE_MULTIPLICATOR  \n0                         8.01    62500.00                      11.18  \n1                    369000.00   184500.00                  369000.00  \n2                        11.95    56666.67                      21.98  ",
      "text/html": "<div>\n<style scoped>\n    .dataframe tbody tr th:only-of-type {\n        vertical-align: middle;\n    }\n\n    .dataframe tbody tr th {\n        vertical-align: top;\n    }\n\n    .dataframe thead th {\n        text-align: right;\n    }\n</style>\n<table border=\"1\" class=\"dataframe\">\n  <thead>\n    <tr style=\"text-align: right;\">\n      <th></th>\n      <th>ID</th>\n      <th>CREATED_AT</th>\n      <th>SOLD_DATE</th>\n      <th>SOLD_DURATION</th>\n      <th>ADDRESS</th>\n      <th>LATITUDE</th>\n      <th>LONGITUDE</th>\n      <th>SOLD_PRICE</th>\n      <th>UNIT_NUMBER</th>\n      <th>PROPERTY_FLOOR</th>\n      <th>BUILDING_SIZE</th>\n      <th>BUILDING_SURFACE</th>\n      <th>LOT_SURFACE</th>\n      <th>LAND_REGISTER</th>\n      <th>BUILDING_YEAR</th>\n      <th>LOT_EVALUATION</th>\n      <th>BUILDING_EVALUATION</th>\n      <th>YEAR_EVALUATION</th>\n      <th>RESIDENTIAL_REVENUE</th>\n      <th>COMMERCIAL_REVENUE</th>\n      <th>PARKING_REVENUE</th>\n      <th>OTHERS_REVENUE</th>\n      <th>MUNICIPAL_TAXE</th>\n      <th>SCHOOL_TAXE</th>\n      <th>EXPENSES_ELECTRICITY</th>\n      <th>EXPENSES_OIL</th>\n      <th>EXPENSES_GAZ</th>\n      <th>EXPENSES_ASSURANCE</th>\n      <th>EXPENSES_SNOW</th>\n      <th>EXPENSES_MAINTENANCE</th>\n      <th>FONDATION_TYPE</th>\n      <th>HEATING_ENERGY</th>\n      <th>NUMBER_1_H</th>\n      <th>NUMBER_2_H</th>\n      <th>NUMBER_3_H</th>\n      <th>NUMBER_4_H</th>\n      <th>NUMBER_5_H</th>\n      <th>NUMBER_6_H</th>\n      <th>NUMBER_7_H</th>\n      <th>NUMBER_8_H</th>\n      <th>NUMBER_9_H</th>\n      <th>AGENCY_NAME</th>\n      <th>AGENCY_ADDRESS</th>\n      <th>CT_FULL_NAME</th>\n      <th>CT_EMAIL</th>\n      <th>DISTANCE</th>\n      <th>RBA</th>\n      <th>REVENUE_GROSS_ROUND</th>\n      <th>NORM_EXP_HEAT</th>\n      <th>NORM_EXP_VACANCY</th>\n      <th>NORM_EXP_INSURANCE</th>\n      <th>NORM_EXP_MAINTENANCE</th>\n      <th>NORM_EXP_CONCIERGE</th>\n      <th>NORM_EXP_MANAGEMENT</th>\n      <th>NORM_EXP_ELECTRICITY</th>\n      <th>NORM_TOTAL_EXPENSES</th>\n      <th>TOTAL_NORM_EXP_ROUNDED</th>\n      <th>NET_NORM_INCOME</th>\n      <th>CAP_RATE</th>\n      <th>GROSS_REVENUE_MULTIPLICATOR</th>\n      <th>UNIT_PRICE</th>\n      <th>NET_REVENUE_MULTIPLICATOR</th>\n    </tr>\n  </thead>\n  <tbody>\n    <tr>\n      <th>0</th>\n      <td>101</td>\n      <td>2020-05-29 08:24:07</td>\n      <td>2018-12-31</td>\n      <td>381</td>\n      <td>431-433 12e Avenue N. Sherbrooke (Fleurimont) ...</td>\n      <td>45.450564</td>\n      <td>-71.860709</td>\n      <td>125000</td>\n      <td>2</td>\n      <td>2</td>\n      <td>29.9 X 35.2 ft / 9.07 X 10.72 m</td>\n      <td>1,047.6 sqft / 97.33 sqm</td>\n      <td>6,124.66 sqft / 569 sqm</td>\n      <td>1 329 778 Cadastre du Quebec</td>\n      <td>1952</td>\n      <td>71100</td>\n      <td>98400</td>\n      <td>2014</td>\n      <td>15600</td>\n      <td>0</td>\n      <td>0</td>\n      <td>0</td>\n      <td>2386</td>\n      <td>267</td>\n      <td>0</td>\n      <td>0</td>\n      <td>0</td>\n      <td>0</td>\n      <td>0</td>\n      <td>0</td>\n      <td>Concrete slab on ground</td>\n      <td>Electricity, Other</td>\n      <td>0</td>\n      <td>0</td>\n      <td>0</td>\n      <td>0</td>\n      <td>2</td>\n      <td>0</td>\n      <td>0</td>\n      <td>0</td>\n      <td>0</td>\n      <td>RE/MAX D'ABORD INC.</td>\n      <td>157 boul. Jacques-Cartier S. Sherbrooke J1J 2Z4</td>\n      <td>Katy Rheaume</td>\n      <td>katyrheaume@remax-quebec.com</td>\n      <td>9.056856</td>\n      <td>15600</td>\n      <td>16000</td>\n      <td>0</td>\n      <td>468.00</td>\n      <td>1300</td>\n      <td>NaN</td>\n      <td>600</td>\n      <td>780.00</td>\n      <td>0</td>\n      <td>4421.00</td>\n      <td>4400.0</td>\n      <td>11179.00</td>\n      <td>8.94</td>\n      <td>8.01</td>\n      <td>62500.00</td>\n      <td>11.18</td>\n    </tr>\n    <tr>\n      <th>1</th>\n      <td>102</td>\n      <td>2020-05-29 08:24:13</td>\n      <td>2019-01-15</td>\n      <td>323</td>\n      <td>118 5e Avenue Sherbrooke (Fleurimont) J1G 2L5</td>\n      <td>45.403658</td>\n      <td>-71.877727</td>\n      <td>369000</td>\n      <td>2</td>\n      <td>0</td>\n      <td>37 X 44 ft irr / 11.28 X 13.41 m irr</td>\n      <td>1,630 sqft / 151.43 sqm</td>\n      <td>6,476 sqft / 601.64 sqm</td>\n      <td>1132557</td>\n      <td>1949</td>\n      <td>75100</td>\n      <td>206200</td>\n      <td>2018</td>\n      <td>1</td>\n      <td>0</td>\n      <td>0</td>\n      <td>0</td>\n      <td>3476</td>\n      <td>803</td>\n      <td>4694</td>\n      <td>0</td>\n      <td>0</td>\n      <td>0</td>\n      <td>0</td>\n      <td>0</td>\n      <td>Poured concrete</td>\n      <td>Dual energy, Electricity, Heating oil</td>\n      <td>0</td>\n      <td>0</td>\n      <td>0</td>\n      <td>0</td>\n      <td>0</td>\n      <td>0</td>\n      <td>1</td>\n      <td>0</td>\n      <td>0</td>\n      <td>CENTURY 21 ACTIONWEB INC.</td>\n      <td>25 rue Bocage Suite 102 Sherbrooke J1L 2J4</td>\n      <td>Patrick Fares</td>\n      <td>patrick.fares@century21.ca</td>\n      <td>4.891268</td>\n      <td>1</td>\n      <td>0</td>\n      <td>0</td>\n      <td>0.03</td>\n      <td>1300</td>\n      <td>NaN</td>\n      <td>600</td>\n      <td>0.05</td>\n      <td>4694</td>\n      <td>0.00</td>\n      <td>0.0</td>\n      <td>1.00</td>\n      <td>0.00</td>\n      <td>369000.00</td>\n      <td>184500.00</td>\n      <td>369000.00</td>\n    </tr>\n    <tr>\n      <th>2</th>\n      <td>103</td>\n      <td>2020-05-29 08:24:19</td>\n      <td>2019-01-23</td>\n      <td>86</td>\n      <td>502 Rue King E. Sherbrooke (Fleurimont) J1G 1B5</td>\n      <td>45.407861</td>\n      <td>-71.877697</td>\n      <td>340000</td>\n      <td>6</td>\n      <td>3</td>\n      <td>30.1 X 41.1 ft / 9.16 X 12.52 m</td>\n      <td>1,234.4 sqft / 114.68 sqm</td>\n      <td>4,500.39 sqft / 418.1 sqm</td>\n      <td>1330580</td>\n      <td>1972</td>\n      <td>104500</td>\n      <td>225300</td>\n      <td>2018</td>\n      <td>28452</td>\n      <td>0</td>\n      <td>0</td>\n      <td>0</td>\n      <td>5164</td>\n      <td>562</td>\n      <td>371</td>\n      <td>0</td>\n      <td>0</td>\n      <td>1426</td>\n      <td>500</td>\n      <td>0</td>\n      <td>Poured concrete</td>\n      <td>Electricity</td>\n      <td>0</td>\n      <td>0</td>\n      <td>6</td>\n      <td>0</td>\n      <td>0</td>\n      <td>0</td>\n      <td>0</td>\n      <td>0</td>\n      <td>0</td>\n      <td>Via Capitale Estrie</td>\n      <td>30 Rioux Sherbrooke J1J 2W7</td>\n      <td>Dominic Glaude</td>\n      <td>dominic.glaude@gmail.com</td>\n      <td>5.067245</td>\n      <td>28452</td>\n      <td>28000</td>\n      <td>0</td>\n      <td>853.56</td>\n      <td>1426</td>\n      <td>3000.0</td>\n      <td>750</td>\n      <td>853.56</td>\n      <td>371</td>\n      <td>12980.12</td>\n      <td>13000.0</td>\n      <td>15471.88</td>\n      <td>4.55</td>\n      <td>11.95</td>\n      <td>56666.67</td>\n      <td>21.98</td>\n    </tr>\n  </tbody>\n</table>\n</div>"
     },
     "metadata": {}
    }
   ],
   "source": [
    "# Cross check the data \n",
    "file = 'datasets/COMP_SALE_SB_EXTRACT_KPI_20201020.csv' \n",
    "features, target, dataset = load_dataset(file, na_val=None, parse_date=False)\n"
   ]
  },
  {
   "cell_type": "markdown",
   "metadata": {},
   "source": [
    "## 2. Data Cleanse "
   ]
  },
  {
   "cell_type": "code",
   "execution_count": 10,
   "metadata": {},
   "outputs": [],
   "source": [
    "def get_bldg_surface(row):\n",
    "    if pd.isna(row[\"BUILDING_SURFACE\"]):\n",
    "        return np.nan\n",
    "    return float(row[\"BUILDING_SURFACE\"].split()[0].replace(',', ''))\n",
    "\n",
    "def get_lot_surface(row):\n",
    "    if pd.isna(row[\"LOT_SURFACE\"]):\n",
    "        return np.nan\n",
    "    return float(row[\"LOT_SURFACE\"].split()[0].replace(',', ''))\n",
    "\n",
    "def get_fondation_quality(row):\n",
    "    if pd.isna(row[\"FONDATION_TYPE\"]):\n",
    "        return np.nan\n",
    "    elif \"Other\" in row[\"FONDATION_TYPE\"].strip():\n",
    "        return 1\n",
    "    elif (\"Stone\" or \\\n",
    "            \"Stone, Other\" or \\\n",
    "            \"Concrete blocks, Stone, Other\" or \\\n",
    "            \"Poured concrete, Stone, Other\" or \\\n",
    "            \"Concrete blocks, Stone\") in row[\"FONDATION_TYPE\"].strip():\n",
    "        return 3\n",
    "    elif (\"Concrete slab on ground, Poured concrete, Stone\" or \\\n",
    "            \"Concrete slab on ground, Stone\" or \\\n",
    "            \"Concrete\") in row[\"FONDATION_TYPE\"].strip():\n",
    "        return 4\n",
    "    elif (\"Poured concrete, Stone\" or \\\n",
    "            \"Concrete blocks, Poured concrete, Stone\") in row[\"FONDATION_TYPE\"].strip():\n",
    "        return 5\n",
    "    elif (\"Concrete slab on ground\" or \\\n",
    "            \"Concrete blocks\" or \\\n",
    "            \"Concrete slab on ground, Poured concrete\" or \\\n",
    "            \"Concrete blocks, Poured concrete, Other\" or \\\n",
    "            \"Concrete blocks, Concrete slab on ground\" or \\\n",
    "            \"Concrete slab on ground, Other\" or \\\n",
    "            \"Concrete blocks, Other\") in \\\n",
    "          row[\"FONDATION_TYPE\"].strip():\n",
    "        return 6\n",
    "    elif (\"Poured concrete, Other\" or \"Concrete\") in row[\"FONDATION_TYPE\"].strip():\n",
    "        return 7\n",
    "    elif (\"Poured concrete\" or \"Concrete blocks, Poured concrete\") in row[\"FONDATION_TYPE\"].strip():\n",
    "        return 8\n",
    "    else:\n",
    "        return np.nan\n",
    "    \n"
   ]
  },
  {
   "cell_type": "code",
   "execution_count": 11,
   "metadata": {},
   "outputs": [],
   "source": [
    "# extract sizes only \n",
    "df = dataset.copy()\n",
    "df[\"BUILDING_SURFACE_SQFT\"] = df.apply(get_bldg_surface, axis=1)\n",
    "df[\"LOT_SURFACE_SQFT\"] = df.apply(get_lot_surface, axis=1)\n",
    "df[\"FONDATION_QUAL\"] = df.apply(get_fondation_quality, axis=1)\n"
   ]
  },
  {
   "cell_type": "code",
   "execution_count": 12,
   "metadata": {
    "scrolled": true
   },
   "outputs": [
    {
     "output_type": "stream",
     "name": "stdout",
     "text": [
      "+ Missing data: \n"
     ]
    },
    {
     "output_type": "execute_result",
     "data": {
      "text/plain": [
       "                        feature  count  percent\n",
       "0          NORM_EXP_MAINTENANCE   1158  77.2000\n",
       "1         BUILDING_SURFACE_SQFT    397  26.4667\n",
       "2              BUILDING_SURFACE    397  26.4667\n",
       "3                FONDATION_QUAL    227  15.1333\n",
       "4                FONDATION_TYPE    209  13.9333\n",
       "5                HEATING_ENERGY    172  11.4667\n",
       "6                 BUILDING_SIZE    100   6.6667\n",
       "7                   LOT_SURFACE     38   2.5333\n",
       "8              LOT_SURFACE_SQFT     38   2.5333\n",
       "9   GROSS_REVENUE_MULTIPLICATOR      9   0.6000\n",
       "10                   NUMBER_9_H      0   0.0000\n",
       "11                     CT_EMAIL      0   0.0000\n",
       "12                 CT_FULL_NAME      0   0.0000\n",
       "13               AGENCY_ADDRESS      0   0.0000\n",
       "14                  AGENCY_NAME      0   0.0000\n",
       "15    NET_REVENUE_MULTIPLICATOR      0   0.0000\n",
       "16                   NUMBER_8_H      0   0.0000\n",
       "17                          RBA      0   0.0000\n",
       "18                   NUMBER_7_H      0   0.0000\n",
       "19                   NUMBER_6_H      0   0.0000\n",
       "20                     DISTANCE      0   0.0000\n",
       "21             NORM_EXP_VACANCY      0   0.0000\n",
       "22          REVENUE_GROSS_ROUND      0   0.0000\n",
       "23                NORM_EXP_HEAT      0   0.0000\n",
       "24                   UNIT_PRICE      0   0.0000\n",
       "25           NORM_EXP_INSURANCE      0   0.0000\n",
       "26                   NUMBER_4_H      0   0.0000\n",
       "27           NORM_EXP_CONCIERGE      0   0.0000\n",
       "28          NORM_EXP_MANAGEMENT      0   0.0000\n",
       "29         NORM_EXP_ELECTRICITY      0   0.0000\n",
       "30          NORM_TOTAL_EXPENSES      0   0.0000\n",
       "31       TOTAL_NORM_EXP_ROUNDED      0   0.0000\n",
       "32              NET_NORM_INCOME      0   0.0000\n",
       "33                     CAP_RATE      0   0.0000\n",
       "34                   NUMBER_5_H      0   0.0000\n",
       "35                           ID      0   0.0000\n",
       "36                   NUMBER_3_H      0   0.0000\n",
       "37              YEAR_EVALUATION      0   0.0000\n",
       "38                    SOLD_DATE      0   0.0000\n",
       "39                SOLD_DURATION      0   0.0000\n",
       "40                      ADDRESS      0   0.0000\n",
       "41                     LATITUDE      0   0.0000\n",
       "42                    LONGITUDE      0   0.0000\n",
       "43                   SOLD_PRICE      0   0.0000\n",
       "44                  UNIT_NUMBER      0   0.0000\n",
       "45               PROPERTY_FLOOR      0   0.0000\n",
       "46                LAND_REGISTER      0   0.0000\n",
       "47                BUILDING_YEAR      0   0.0000\n",
       "48               LOT_EVALUATION      0   0.0000\n",
       "49          BUILDING_EVALUATION      0   0.0000\n",
       "50          RESIDENTIAL_REVENUE      0   0.0000\n",
       "51                   NUMBER_2_H      0   0.0000\n",
       "52           COMMERCIAL_REVENUE      0   0.0000\n",
       "53              PARKING_REVENUE      0   0.0000\n",
       "54               OTHERS_REVENUE      0   0.0000\n",
       "55               MUNICIPAL_TAXE      0   0.0000\n",
       "56                  SCHOOL_TAXE      0   0.0000\n",
       "57         EXPENSES_ELECTRICITY      0   0.0000\n",
       "58                 EXPENSES_OIL      0   0.0000\n",
       "59                 EXPENSES_GAZ      0   0.0000\n",
       "60           EXPENSES_ASSURANCE      0   0.0000\n",
       "61                EXPENSES_SNOW      0   0.0000\n",
       "62         EXPENSES_MAINTENANCE      0   0.0000\n",
       "63                   CREATED_AT      0   0.0000\n",
       "64                   NUMBER_1_H      0   0.0000"
      ],
      "text/html": "<div>\n<style scoped>\n    .dataframe tbody tr th:only-of-type {\n        vertical-align: middle;\n    }\n\n    .dataframe tbody tr th {\n        vertical-align: top;\n    }\n\n    .dataframe thead th {\n        text-align: right;\n    }\n</style>\n<table border=\"1\" class=\"dataframe\">\n  <thead>\n    <tr style=\"text-align: right;\">\n      <th></th>\n      <th>feature</th>\n      <th>count</th>\n      <th>percent</th>\n    </tr>\n  </thead>\n  <tbody>\n    <tr>\n      <th>0</th>\n      <td>NORM_EXP_MAINTENANCE</td>\n      <td>1158</td>\n      <td>77.2000</td>\n    </tr>\n    <tr>\n      <th>1</th>\n      <td>BUILDING_SURFACE_SQFT</td>\n      <td>397</td>\n      <td>26.4667</td>\n    </tr>\n    <tr>\n      <th>2</th>\n      <td>BUILDING_SURFACE</td>\n      <td>397</td>\n      <td>26.4667</td>\n    </tr>\n    <tr>\n      <th>3</th>\n      <td>FONDATION_QUAL</td>\n      <td>227</td>\n      <td>15.1333</td>\n    </tr>\n    <tr>\n      <th>4</th>\n      <td>FONDATION_TYPE</td>\n      <td>209</td>\n      <td>13.9333</td>\n    </tr>\n    <tr>\n      <th>5</th>\n      <td>HEATING_ENERGY</td>\n      <td>172</td>\n      <td>11.4667</td>\n    </tr>\n    <tr>\n      <th>6</th>\n      <td>BUILDING_SIZE</td>\n      <td>100</td>\n      <td>6.6667</td>\n    </tr>\n    <tr>\n      <th>7</th>\n      <td>LOT_SURFACE</td>\n      <td>38</td>\n      <td>2.5333</td>\n    </tr>\n    <tr>\n      <th>8</th>\n      <td>LOT_SURFACE_SQFT</td>\n      <td>38</td>\n      <td>2.5333</td>\n    </tr>\n    <tr>\n      <th>9</th>\n      <td>GROSS_REVENUE_MULTIPLICATOR</td>\n      <td>9</td>\n      <td>0.6000</td>\n    </tr>\n    <tr>\n      <th>10</th>\n      <td>NUMBER_9_H</td>\n      <td>0</td>\n      <td>0.0000</td>\n    </tr>\n    <tr>\n      <th>11</th>\n      <td>CT_EMAIL</td>\n      <td>0</td>\n      <td>0.0000</td>\n    </tr>\n    <tr>\n      <th>12</th>\n      <td>CT_FULL_NAME</td>\n      <td>0</td>\n      <td>0.0000</td>\n    </tr>\n    <tr>\n      <th>13</th>\n      <td>AGENCY_ADDRESS</td>\n      <td>0</td>\n      <td>0.0000</td>\n    </tr>\n    <tr>\n      <th>14</th>\n      <td>AGENCY_NAME</td>\n      <td>0</td>\n      <td>0.0000</td>\n    </tr>\n    <tr>\n      <th>15</th>\n      <td>NET_REVENUE_MULTIPLICATOR</td>\n      <td>0</td>\n      <td>0.0000</td>\n    </tr>\n    <tr>\n      <th>16</th>\n      <td>NUMBER_8_H</td>\n      <td>0</td>\n      <td>0.0000</td>\n    </tr>\n    <tr>\n      <th>17</th>\n      <td>RBA</td>\n      <td>0</td>\n      <td>0.0000</td>\n    </tr>\n    <tr>\n      <th>18</th>\n      <td>NUMBER_7_H</td>\n      <td>0</td>\n      <td>0.0000</td>\n    </tr>\n    <tr>\n      <th>19</th>\n      <td>NUMBER_6_H</td>\n      <td>0</td>\n      <td>0.0000</td>\n    </tr>\n    <tr>\n      <th>20</th>\n      <td>DISTANCE</td>\n      <td>0</td>\n      <td>0.0000</td>\n    </tr>\n    <tr>\n      <th>21</th>\n      <td>NORM_EXP_VACANCY</td>\n      <td>0</td>\n      <td>0.0000</td>\n    </tr>\n    <tr>\n      <th>22</th>\n      <td>REVENUE_GROSS_ROUND</td>\n      <td>0</td>\n      <td>0.0000</td>\n    </tr>\n    <tr>\n      <th>23</th>\n      <td>NORM_EXP_HEAT</td>\n      <td>0</td>\n      <td>0.0000</td>\n    </tr>\n    <tr>\n      <th>24</th>\n      <td>UNIT_PRICE</td>\n      <td>0</td>\n      <td>0.0000</td>\n    </tr>\n    <tr>\n      <th>25</th>\n      <td>NORM_EXP_INSURANCE</td>\n      <td>0</td>\n      <td>0.0000</td>\n    </tr>\n    <tr>\n      <th>26</th>\n      <td>NUMBER_4_H</td>\n      <td>0</td>\n      <td>0.0000</td>\n    </tr>\n    <tr>\n      <th>27</th>\n      <td>NORM_EXP_CONCIERGE</td>\n      <td>0</td>\n      <td>0.0000</td>\n    </tr>\n    <tr>\n      <th>28</th>\n      <td>NORM_EXP_MANAGEMENT</td>\n      <td>0</td>\n      <td>0.0000</td>\n    </tr>\n    <tr>\n      <th>29</th>\n      <td>NORM_EXP_ELECTRICITY</td>\n      <td>0</td>\n      <td>0.0000</td>\n    </tr>\n    <tr>\n      <th>30</th>\n      <td>NORM_TOTAL_EXPENSES</td>\n      <td>0</td>\n      <td>0.0000</td>\n    </tr>\n    <tr>\n      <th>31</th>\n      <td>TOTAL_NORM_EXP_ROUNDED</td>\n      <td>0</td>\n      <td>0.0000</td>\n    </tr>\n    <tr>\n      <th>32</th>\n      <td>NET_NORM_INCOME</td>\n      <td>0</td>\n      <td>0.0000</td>\n    </tr>\n    <tr>\n      <th>33</th>\n      <td>CAP_RATE</td>\n      <td>0</td>\n      <td>0.0000</td>\n    </tr>\n    <tr>\n      <th>34</th>\n      <td>NUMBER_5_H</td>\n      <td>0</td>\n      <td>0.0000</td>\n    </tr>\n    <tr>\n      <th>35</th>\n      <td>ID</td>\n      <td>0</td>\n      <td>0.0000</td>\n    </tr>\n    <tr>\n      <th>36</th>\n      <td>NUMBER_3_H</td>\n      <td>0</td>\n      <td>0.0000</td>\n    </tr>\n    <tr>\n      <th>37</th>\n      <td>YEAR_EVALUATION</td>\n      <td>0</td>\n      <td>0.0000</td>\n    </tr>\n    <tr>\n      <th>38</th>\n      <td>SOLD_DATE</td>\n      <td>0</td>\n      <td>0.0000</td>\n    </tr>\n    <tr>\n      <th>39</th>\n      <td>SOLD_DURATION</td>\n      <td>0</td>\n      <td>0.0000</td>\n    </tr>\n    <tr>\n      <th>40</th>\n      <td>ADDRESS</td>\n      <td>0</td>\n      <td>0.0000</td>\n    </tr>\n    <tr>\n      <th>41</th>\n      <td>LATITUDE</td>\n      <td>0</td>\n      <td>0.0000</td>\n    </tr>\n    <tr>\n      <th>42</th>\n      <td>LONGITUDE</td>\n      <td>0</td>\n      <td>0.0000</td>\n    </tr>\n    <tr>\n      <th>43</th>\n      <td>SOLD_PRICE</td>\n      <td>0</td>\n      <td>0.0000</td>\n    </tr>\n    <tr>\n      <th>44</th>\n      <td>UNIT_NUMBER</td>\n      <td>0</td>\n      <td>0.0000</td>\n    </tr>\n    <tr>\n      <th>45</th>\n      <td>PROPERTY_FLOOR</td>\n      <td>0</td>\n      <td>0.0000</td>\n    </tr>\n    <tr>\n      <th>46</th>\n      <td>LAND_REGISTER</td>\n      <td>0</td>\n      <td>0.0000</td>\n    </tr>\n    <tr>\n      <th>47</th>\n      <td>BUILDING_YEAR</td>\n      <td>0</td>\n      <td>0.0000</td>\n    </tr>\n    <tr>\n      <th>48</th>\n      <td>LOT_EVALUATION</td>\n      <td>0</td>\n      <td>0.0000</td>\n    </tr>\n    <tr>\n      <th>49</th>\n      <td>BUILDING_EVALUATION</td>\n      <td>0</td>\n      <td>0.0000</td>\n    </tr>\n    <tr>\n      <th>50</th>\n      <td>RESIDENTIAL_REVENUE</td>\n      <td>0</td>\n      <td>0.0000</td>\n    </tr>\n    <tr>\n      <th>51</th>\n      <td>NUMBER_2_H</td>\n      <td>0</td>\n      <td>0.0000</td>\n    </tr>\n    <tr>\n      <th>52</th>\n      <td>COMMERCIAL_REVENUE</td>\n      <td>0</td>\n      <td>0.0000</td>\n    </tr>\n    <tr>\n      <th>53</th>\n      <td>PARKING_REVENUE</td>\n      <td>0</td>\n      <td>0.0000</td>\n    </tr>\n    <tr>\n      <th>54</th>\n      <td>OTHERS_REVENUE</td>\n      <td>0</td>\n      <td>0.0000</td>\n    </tr>\n    <tr>\n      <th>55</th>\n      <td>MUNICIPAL_TAXE</td>\n      <td>0</td>\n      <td>0.0000</td>\n    </tr>\n    <tr>\n      <th>56</th>\n      <td>SCHOOL_TAXE</td>\n      <td>0</td>\n      <td>0.0000</td>\n    </tr>\n    <tr>\n      <th>57</th>\n      <td>EXPENSES_ELECTRICITY</td>\n      <td>0</td>\n      <td>0.0000</td>\n    </tr>\n    <tr>\n      <th>58</th>\n      <td>EXPENSES_OIL</td>\n      <td>0</td>\n      <td>0.0000</td>\n    </tr>\n    <tr>\n      <th>59</th>\n      <td>EXPENSES_GAZ</td>\n      <td>0</td>\n      <td>0.0000</td>\n    </tr>\n    <tr>\n      <th>60</th>\n      <td>EXPENSES_ASSURANCE</td>\n      <td>0</td>\n      <td>0.0000</td>\n    </tr>\n    <tr>\n      <th>61</th>\n      <td>EXPENSES_SNOW</td>\n      <td>0</td>\n      <td>0.0000</td>\n    </tr>\n    <tr>\n      <th>62</th>\n      <td>EXPENSES_MAINTENANCE</td>\n      <td>0</td>\n      <td>0.0000</td>\n    </tr>\n    <tr>\n      <th>63</th>\n      <td>CREATED_AT</td>\n      <td>0</td>\n      <td>0.0000</td>\n    </tr>\n    <tr>\n      <th>64</th>\n      <td>NUMBER_1_H</td>\n      <td>0</td>\n      <td>0.0000</td>\n    </tr>\n  </tbody>\n</table>\n</div>"
     },
     "metadata": {},
     "execution_count": 12
    }
   ],
   "source": [
    "display_missing(df, True)"
   ]
  },
  {
   "cell_type": "code",
   "execution_count": 13,
   "metadata": {},
   "outputs": [],
   "source": [
    "# Remove redundant/unecessary features \n",
    "cols_drop = [\"ID\", \"CREATED_AT\", \"SOLD_DATE\", \"ADDRESS\", \"RBA\",\n",
    "            \"BUILDING_SIZE\", \"BUILDING_SURFACE\", \"LOT_SURFACE\", \"LAND_REGISTER\", \n",
    "            \"FONDATION_TYPE\", \"AGENCY_ADDRESS\", \"CT_FULL_NAME\", \"CT_EMAIL\", \n",
    "            \"EXPENSES_MAINTENANCE\", \"EXPENSES_ELECTRICITY\", \"EXPENSES_OIL\", \"EXPENSES_GAZ\",\n",
    "            \"EXPENSES_ASSURANCE\",  \"NORM_EXP_MAINTENANCE\", \"NORM_TOTAL_EXPENSES\"]\n",
    "\n",
    "\n",
    "# Save dataset having \"Salary Estimate\"\n",
    "df.drop(cols_drop, inplace=True, axis=1)\n",
    "# Save \n",
    "df.to_csv('datasets/COMP_SALE_SB_CLEAN_20201104.csv', index=False)"
   ]
  },
  {
   "cell_type": "code",
   "execution_count": 14,
   "metadata": {},
   "outputs": [
    {
     "output_type": "stream",
     "name": "stdout",
     "text": [
      "+ Dataset:\n"
     ]
    },
    {
     "output_type": "display_data",
     "data": {
      "text/plain": "   SOLD_DURATION   LATITUDE  LONGITUDE  SOLD_PRICE  UNIT_NUMBER  \\\n0            381  45.450564 -71.860709      125000            2   \n1            323  45.403658 -71.877727      369000            2   \n2             86  45.407861 -71.877697      340000            6   \n\n   PROPERTY_FLOOR  BUILDING_YEAR  LOT_EVALUATION  BUILDING_EVALUATION  \\\n0               2           1952           71100                98400   \n1               0           1949           75100               206200   \n2               3           1972          104500               225300   \n\n   YEAR_EVALUATION  RESIDENTIAL_REVENUE  COMMERCIAL_REVENUE  PARKING_REVENUE  \\\n0             2014                15600                   0                0   \n1             2018                    1                   0                0   \n2             2018                28452                   0                0   \n\n   OTHERS_REVENUE  MUNICIPAL_TAXE  SCHOOL_TAXE  EXPENSES_SNOW  \\\n0               0            2386          267              0   \n1               0            3476          803              0   \n2               0            5164          562            500   \n\n                          HEATING_ENERGY  NUMBER_1_H  NUMBER_2_H  NUMBER_3_H  \\\n0                     Electricity, Other           0           0           0   \n1  Dual energy, Electricity, Heating oil           0           0           0   \n2                            Electricity           0           0           6   \n\n   NUMBER_4_H  NUMBER_5_H  NUMBER_6_H  NUMBER_7_H  NUMBER_8_H  NUMBER_9_H  \\\n0           0           2           0           0           0           0   \n1           0           0           0           1           0           0   \n2           0           0           0           0           0           0   \n\n                 AGENCY_NAME  DISTANCE  REVENUE_GROSS_ROUND  NORM_EXP_HEAT  \\\n0        RE/MAX D'ABORD INC.  9.056856                16000              0   \n1  CENTURY 21 ACTIONWEB INC.  4.891268                    0              0   \n2        Via Capitale Estrie  5.067245                28000              0   \n\n   NORM_EXP_VACANCY  NORM_EXP_INSURANCE  NORM_EXP_CONCIERGE  \\\n0            468.00                1300                 600   \n1              0.03                1300                 600   \n2            853.56                1426                 750   \n\n   NORM_EXP_MANAGEMENT  NORM_EXP_ELECTRICITY  TOTAL_NORM_EXP_ROUNDED  \\\n0               780.00                     0                  4400.0   \n1                 0.05                  4694                     0.0   \n2               853.56                   371                 13000.0   \n\n   NET_NORM_INCOME  CAP_RATE  GROSS_REVENUE_MULTIPLICATOR  UNIT_PRICE  \\\n0         11179.00      8.94                         8.01    62500.00   \n1             1.00      0.00                    369000.00   184500.00   \n2         15471.88      4.55                        11.95    56666.67   \n\n   NET_REVENUE_MULTIPLICATOR  BUILDING_SURFACE_SQFT  LOT_SURFACE_SQFT  \\\n0                      11.18                 1047.6           6124.66   \n1                  369000.00                 1630.0           6476.00   \n2                      21.98                 1234.4           4500.39   \n\n   FONDATION_QUAL  \n0             6.0  \n1             8.0  \n2             8.0  ",
      "text/html": "<div>\n<style scoped>\n    .dataframe tbody tr th:only-of-type {\n        vertical-align: middle;\n    }\n\n    .dataframe tbody tr th {\n        vertical-align: top;\n    }\n\n    .dataframe thead th {\n        text-align: right;\n    }\n</style>\n<table border=\"1\" class=\"dataframe\">\n  <thead>\n    <tr style=\"text-align: right;\">\n      <th></th>\n      <th>SOLD_DURATION</th>\n      <th>LATITUDE</th>\n      <th>LONGITUDE</th>\n      <th>SOLD_PRICE</th>\n      <th>UNIT_NUMBER</th>\n      <th>PROPERTY_FLOOR</th>\n      <th>BUILDING_YEAR</th>\n      <th>LOT_EVALUATION</th>\n      <th>BUILDING_EVALUATION</th>\n      <th>YEAR_EVALUATION</th>\n      <th>RESIDENTIAL_REVENUE</th>\n      <th>COMMERCIAL_REVENUE</th>\n      <th>PARKING_REVENUE</th>\n      <th>OTHERS_REVENUE</th>\n      <th>MUNICIPAL_TAXE</th>\n      <th>SCHOOL_TAXE</th>\n      <th>EXPENSES_SNOW</th>\n      <th>HEATING_ENERGY</th>\n      <th>NUMBER_1_H</th>\n      <th>NUMBER_2_H</th>\n      <th>NUMBER_3_H</th>\n      <th>NUMBER_4_H</th>\n      <th>NUMBER_5_H</th>\n      <th>NUMBER_6_H</th>\n      <th>NUMBER_7_H</th>\n      <th>NUMBER_8_H</th>\n      <th>NUMBER_9_H</th>\n      <th>AGENCY_NAME</th>\n      <th>DISTANCE</th>\n      <th>REVENUE_GROSS_ROUND</th>\n      <th>NORM_EXP_HEAT</th>\n      <th>NORM_EXP_VACANCY</th>\n      <th>NORM_EXP_INSURANCE</th>\n      <th>NORM_EXP_CONCIERGE</th>\n      <th>NORM_EXP_MANAGEMENT</th>\n      <th>NORM_EXP_ELECTRICITY</th>\n      <th>TOTAL_NORM_EXP_ROUNDED</th>\n      <th>NET_NORM_INCOME</th>\n      <th>CAP_RATE</th>\n      <th>GROSS_REVENUE_MULTIPLICATOR</th>\n      <th>UNIT_PRICE</th>\n      <th>NET_REVENUE_MULTIPLICATOR</th>\n      <th>BUILDING_SURFACE_SQFT</th>\n      <th>LOT_SURFACE_SQFT</th>\n      <th>FONDATION_QUAL</th>\n    </tr>\n  </thead>\n  <tbody>\n    <tr>\n      <th>0</th>\n      <td>381</td>\n      <td>45.450564</td>\n      <td>-71.860709</td>\n      <td>125000</td>\n      <td>2</td>\n      <td>2</td>\n      <td>1952</td>\n      <td>71100</td>\n      <td>98400</td>\n      <td>2014</td>\n      <td>15600</td>\n      <td>0</td>\n      <td>0</td>\n      <td>0</td>\n      <td>2386</td>\n      <td>267</td>\n      <td>0</td>\n      <td>Electricity, Other</td>\n      <td>0</td>\n      <td>0</td>\n      <td>0</td>\n      <td>0</td>\n      <td>2</td>\n      <td>0</td>\n      <td>0</td>\n      <td>0</td>\n      <td>0</td>\n      <td>RE/MAX D'ABORD INC.</td>\n      <td>9.056856</td>\n      <td>16000</td>\n      <td>0</td>\n      <td>468.00</td>\n      <td>1300</td>\n      <td>600</td>\n      <td>780.00</td>\n      <td>0</td>\n      <td>4400.0</td>\n      <td>11179.00</td>\n      <td>8.94</td>\n      <td>8.01</td>\n      <td>62500.00</td>\n      <td>11.18</td>\n      <td>1047.6</td>\n      <td>6124.66</td>\n      <td>6.0</td>\n    </tr>\n    <tr>\n      <th>1</th>\n      <td>323</td>\n      <td>45.403658</td>\n      <td>-71.877727</td>\n      <td>369000</td>\n      <td>2</td>\n      <td>0</td>\n      <td>1949</td>\n      <td>75100</td>\n      <td>206200</td>\n      <td>2018</td>\n      <td>1</td>\n      <td>0</td>\n      <td>0</td>\n      <td>0</td>\n      <td>3476</td>\n      <td>803</td>\n      <td>0</td>\n      <td>Dual energy, Electricity, Heating oil</td>\n      <td>0</td>\n      <td>0</td>\n      <td>0</td>\n      <td>0</td>\n      <td>0</td>\n      <td>0</td>\n      <td>1</td>\n      <td>0</td>\n      <td>0</td>\n      <td>CENTURY 21 ACTIONWEB INC.</td>\n      <td>4.891268</td>\n      <td>0</td>\n      <td>0</td>\n      <td>0.03</td>\n      <td>1300</td>\n      <td>600</td>\n      <td>0.05</td>\n      <td>4694</td>\n      <td>0.0</td>\n      <td>1.00</td>\n      <td>0.00</td>\n      <td>369000.00</td>\n      <td>184500.00</td>\n      <td>369000.00</td>\n      <td>1630.0</td>\n      <td>6476.00</td>\n      <td>8.0</td>\n    </tr>\n    <tr>\n      <th>2</th>\n      <td>86</td>\n      <td>45.407861</td>\n      <td>-71.877697</td>\n      <td>340000</td>\n      <td>6</td>\n      <td>3</td>\n      <td>1972</td>\n      <td>104500</td>\n      <td>225300</td>\n      <td>2018</td>\n      <td>28452</td>\n      <td>0</td>\n      <td>0</td>\n      <td>0</td>\n      <td>5164</td>\n      <td>562</td>\n      <td>500</td>\n      <td>Electricity</td>\n      <td>0</td>\n      <td>0</td>\n      <td>6</td>\n      <td>0</td>\n      <td>0</td>\n      <td>0</td>\n      <td>0</td>\n      <td>0</td>\n      <td>0</td>\n      <td>Via Capitale Estrie</td>\n      <td>5.067245</td>\n      <td>28000</td>\n      <td>0</td>\n      <td>853.56</td>\n      <td>1426</td>\n      <td>750</td>\n      <td>853.56</td>\n      <td>371</td>\n      <td>13000.0</td>\n      <td>15471.88</td>\n      <td>4.55</td>\n      <td>11.95</td>\n      <td>56666.67</td>\n      <td>21.98</td>\n      <td>1234.4</td>\n      <td>4500.39</td>\n      <td>8.0</td>\n    </tr>\n  </tbody>\n</table>\n</div>"
     },
     "metadata": {}
    }
   ],
   "source": [
    "# Cross check the data \n",
    "file = 'datasets/COMP_SALE_SB_CLEAN_20201104.csv' \n",
    "features, target, dataset = load_dataset(file, na_val=None, parse_date=False)"
   ]
  },
  {
   "cell_type": "code",
   "execution_count": 15,
   "metadata": {},
   "outputs": [
    {
     "output_type": "stream",
     "name": "stdout",
     "text": [
      "+ Missing data: \n"
     ]
    },
    {
     "output_type": "execute_result",
     "data": {
      "text/plain": [
       "                        feature  count  percent\n",
       "0         BUILDING_SURFACE_SQFT    397  26.4667\n",
       "1                FONDATION_QUAL    227  15.1333\n",
       "2                HEATING_ENERGY    172  11.4667\n",
       "3              LOT_SURFACE_SQFT     38   2.5333\n",
       "4   GROSS_REVENUE_MULTIPLICATOR      9   0.6000\n",
       "5            NORM_EXP_INSURANCE      0   0.0000\n",
       "6                    NUMBER_8_H      0   0.0000\n",
       "7                    NUMBER_9_H      0   0.0000\n",
       "8                   AGENCY_NAME      0   0.0000\n",
       "9                      DISTANCE      0   0.0000\n",
       "10          REVENUE_GROSS_ROUND      0   0.0000\n",
       "11                NORM_EXP_HEAT      0   0.0000\n",
       "12             NORM_EXP_VACANCY      0   0.0000\n",
       "13          NORM_EXP_MANAGEMENT      0   0.0000\n",
       "14           NORM_EXP_CONCIERGE      0   0.0000\n",
       "15                   NUMBER_6_H      0   0.0000\n",
       "16         NORM_EXP_ELECTRICITY      0   0.0000\n",
       "17       TOTAL_NORM_EXP_ROUNDED      0   0.0000\n",
       "18              NET_NORM_INCOME      0   0.0000\n",
       "19                     CAP_RATE      0   0.0000\n",
       "20                   UNIT_PRICE      0   0.0000\n",
       "21    NET_REVENUE_MULTIPLICATOR      0   0.0000\n",
       "22                   NUMBER_7_H      0   0.0000\n",
       "23                SOLD_DURATION      0   0.0000\n",
       "24                     LATITUDE      0   0.0000\n",
       "25          RESIDENTIAL_REVENUE      0   0.0000\n",
       "26                    LONGITUDE      0   0.0000\n",
       "27                   SOLD_PRICE      0   0.0000\n",
       "28                  UNIT_NUMBER      0   0.0000\n",
       "29               PROPERTY_FLOOR      0   0.0000\n",
       "30                BUILDING_YEAR      0   0.0000\n",
       "31               LOT_EVALUATION      0   0.0000\n",
       "32          BUILDING_EVALUATION      0   0.0000\n",
       "33              YEAR_EVALUATION      0   0.0000\n",
       "34           COMMERCIAL_REVENUE      0   0.0000\n",
       "35                   NUMBER_4_H      0   0.0000\n",
       "36              PARKING_REVENUE      0   0.0000\n",
       "37               OTHERS_REVENUE      0   0.0000\n",
       "38               MUNICIPAL_TAXE      0   0.0000\n",
       "39                  SCHOOL_TAXE      0   0.0000\n",
       "40                EXPENSES_SNOW      0   0.0000\n",
       "41                   NUMBER_1_H      0   0.0000\n",
       "42                   NUMBER_2_H      0   0.0000\n",
       "43                   NUMBER_3_H      0   0.0000\n",
       "44                   NUMBER_5_H      0   0.0000"
      ],
      "text/html": "<div>\n<style scoped>\n    .dataframe tbody tr th:only-of-type {\n        vertical-align: middle;\n    }\n\n    .dataframe tbody tr th {\n        vertical-align: top;\n    }\n\n    .dataframe thead th {\n        text-align: right;\n    }\n</style>\n<table border=\"1\" class=\"dataframe\">\n  <thead>\n    <tr style=\"text-align: right;\">\n      <th></th>\n      <th>feature</th>\n      <th>count</th>\n      <th>percent</th>\n    </tr>\n  </thead>\n  <tbody>\n    <tr>\n      <th>0</th>\n      <td>BUILDING_SURFACE_SQFT</td>\n      <td>397</td>\n      <td>26.4667</td>\n    </tr>\n    <tr>\n      <th>1</th>\n      <td>FONDATION_QUAL</td>\n      <td>227</td>\n      <td>15.1333</td>\n    </tr>\n    <tr>\n      <th>2</th>\n      <td>HEATING_ENERGY</td>\n      <td>172</td>\n      <td>11.4667</td>\n    </tr>\n    <tr>\n      <th>3</th>\n      <td>LOT_SURFACE_SQFT</td>\n      <td>38</td>\n      <td>2.5333</td>\n    </tr>\n    <tr>\n      <th>4</th>\n      <td>GROSS_REVENUE_MULTIPLICATOR</td>\n      <td>9</td>\n      <td>0.6000</td>\n    </tr>\n    <tr>\n      <th>5</th>\n      <td>NORM_EXP_INSURANCE</td>\n      <td>0</td>\n      <td>0.0000</td>\n    </tr>\n    <tr>\n      <th>6</th>\n      <td>NUMBER_8_H</td>\n      <td>0</td>\n      <td>0.0000</td>\n    </tr>\n    <tr>\n      <th>7</th>\n      <td>NUMBER_9_H</td>\n      <td>0</td>\n      <td>0.0000</td>\n    </tr>\n    <tr>\n      <th>8</th>\n      <td>AGENCY_NAME</td>\n      <td>0</td>\n      <td>0.0000</td>\n    </tr>\n    <tr>\n      <th>9</th>\n      <td>DISTANCE</td>\n      <td>0</td>\n      <td>0.0000</td>\n    </tr>\n    <tr>\n      <th>10</th>\n      <td>REVENUE_GROSS_ROUND</td>\n      <td>0</td>\n      <td>0.0000</td>\n    </tr>\n    <tr>\n      <th>11</th>\n      <td>NORM_EXP_HEAT</td>\n      <td>0</td>\n      <td>0.0000</td>\n    </tr>\n    <tr>\n      <th>12</th>\n      <td>NORM_EXP_VACANCY</td>\n      <td>0</td>\n      <td>0.0000</td>\n    </tr>\n    <tr>\n      <th>13</th>\n      <td>NORM_EXP_MANAGEMENT</td>\n      <td>0</td>\n      <td>0.0000</td>\n    </tr>\n    <tr>\n      <th>14</th>\n      <td>NORM_EXP_CONCIERGE</td>\n      <td>0</td>\n      <td>0.0000</td>\n    </tr>\n    <tr>\n      <th>15</th>\n      <td>NUMBER_6_H</td>\n      <td>0</td>\n      <td>0.0000</td>\n    </tr>\n    <tr>\n      <th>16</th>\n      <td>NORM_EXP_ELECTRICITY</td>\n      <td>0</td>\n      <td>0.0000</td>\n    </tr>\n    <tr>\n      <th>17</th>\n      <td>TOTAL_NORM_EXP_ROUNDED</td>\n      <td>0</td>\n      <td>0.0000</td>\n    </tr>\n    <tr>\n      <th>18</th>\n      <td>NET_NORM_INCOME</td>\n      <td>0</td>\n      <td>0.0000</td>\n    </tr>\n    <tr>\n      <th>19</th>\n      <td>CAP_RATE</td>\n      <td>0</td>\n      <td>0.0000</td>\n    </tr>\n    <tr>\n      <th>20</th>\n      <td>UNIT_PRICE</td>\n      <td>0</td>\n      <td>0.0000</td>\n    </tr>\n    <tr>\n      <th>21</th>\n      <td>NET_REVENUE_MULTIPLICATOR</td>\n      <td>0</td>\n      <td>0.0000</td>\n    </tr>\n    <tr>\n      <th>22</th>\n      <td>NUMBER_7_H</td>\n      <td>0</td>\n      <td>0.0000</td>\n    </tr>\n    <tr>\n      <th>23</th>\n      <td>SOLD_DURATION</td>\n      <td>0</td>\n      <td>0.0000</td>\n    </tr>\n    <tr>\n      <th>24</th>\n      <td>LATITUDE</td>\n      <td>0</td>\n      <td>0.0000</td>\n    </tr>\n    <tr>\n      <th>25</th>\n      <td>RESIDENTIAL_REVENUE</td>\n      <td>0</td>\n      <td>0.0000</td>\n    </tr>\n    <tr>\n      <th>26</th>\n      <td>LONGITUDE</td>\n      <td>0</td>\n      <td>0.0000</td>\n    </tr>\n    <tr>\n      <th>27</th>\n      <td>SOLD_PRICE</td>\n      <td>0</td>\n      <td>0.0000</td>\n    </tr>\n    <tr>\n      <th>28</th>\n      <td>UNIT_NUMBER</td>\n      <td>0</td>\n      <td>0.0000</td>\n    </tr>\n    <tr>\n      <th>29</th>\n      <td>PROPERTY_FLOOR</td>\n      <td>0</td>\n      <td>0.0000</td>\n    </tr>\n    <tr>\n      <th>30</th>\n      <td>BUILDING_YEAR</td>\n      <td>0</td>\n      <td>0.0000</td>\n    </tr>\n    <tr>\n      <th>31</th>\n      <td>LOT_EVALUATION</td>\n      <td>0</td>\n      <td>0.0000</td>\n    </tr>\n    <tr>\n      <th>32</th>\n      <td>BUILDING_EVALUATION</td>\n      <td>0</td>\n      <td>0.0000</td>\n    </tr>\n    <tr>\n      <th>33</th>\n      <td>YEAR_EVALUATION</td>\n      <td>0</td>\n      <td>0.0000</td>\n    </tr>\n    <tr>\n      <th>34</th>\n      <td>COMMERCIAL_REVENUE</td>\n      <td>0</td>\n      <td>0.0000</td>\n    </tr>\n    <tr>\n      <th>35</th>\n      <td>NUMBER_4_H</td>\n      <td>0</td>\n      <td>0.0000</td>\n    </tr>\n    <tr>\n      <th>36</th>\n      <td>PARKING_REVENUE</td>\n      <td>0</td>\n      <td>0.0000</td>\n    </tr>\n    <tr>\n      <th>37</th>\n      <td>OTHERS_REVENUE</td>\n      <td>0</td>\n      <td>0.0000</td>\n    </tr>\n    <tr>\n      <th>38</th>\n      <td>MUNICIPAL_TAXE</td>\n      <td>0</td>\n      <td>0.0000</td>\n    </tr>\n    <tr>\n      <th>39</th>\n      <td>SCHOOL_TAXE</td>\n      <td>0</td>\n      <td>0.0000</td>\n    </tr>\n    <tr>\n      <th>40</th>\n      <td>EXPENSES_SNOW</td>\n      <td>0</td>\n      <td>0.0000</td>\n    </tr>\n    <tr>\n      <th>41</th>\n      <td>NUMBER_1_H</td>\n      <td>0</td>\n      <td>0.0000</td>\n    </tr>\n    <tr>\n      <th>42</th>\n      <td>NUMBER_2_H</td>\n      <td>0</td>\n      <td>0.0000</td>\n    </tr>\n    <tr>\n      <th>43</th>\n      <td>NUMBER_3_H</td>\n      <td>0</td>\n      <td>0.0000</td>\n    </tr>\n    <tr>\n      <th>44</th>\n      <td>NUMBER_5_H</td>\n      <td>0</td>\n      <td>0.0000</td>\n    </tr>\n  </tbody>\n</table>\n</div>"
     },
     "metadata": {},
     "execution_count": 15
    }
   ],
   "source": [
    "display_missing(df, True)"
   ]
  },
  {
   "cell_type": "code",
   "execution_count": null,
   "metadata": {},
   "outputs": [],
   "source": []
  },
  {
   "cell_type": "code",
   "execution_count": null,
   "metadata": {},
   "outputs": [],
   "source": []
  }
 ],
 "metadata": {
  "kernelspec": {
   "display_name": "ds37",
   "language": "python",
   "name": "ds37"
  },
  "language_info": {
   "codemirror_mode": {
    "name": "ipython",
    "version": 3
   },
   "file_extension": ".py",
   "mimetype": "text/x-python",
   "name": "python",
   "nbconvert_exporter": "python",
   "pygments_lexer": "ipython3",
   "version": "3.7.7-final"
  }
 },
 "nbformat": 4,
 "nbformat_minor": 4
}